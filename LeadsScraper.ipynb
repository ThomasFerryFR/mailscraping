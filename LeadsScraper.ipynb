{
 "cells": [
  {
   "cell_type": "code",
   "execution_count": 1,
   "metadata": {},
   "outputs": [],
   "source": [
    "import requests\n",
    "import pandas as pd\n",
    "from bs4 import BeautifulSoup as BS\n",
    "import re"
   ]
  },
  {
   "cell_type": "code",
   "execution_count": 25,
   "metadata": {},
   "outputs": [],
   "source": [
    "from serpapi import GoogleSearch\n",
    "\n",
    "organic_results = {}\n",
    "cities = ['Rennes','Brest','Quimper','Lorient','Vannes']\n",
    "\n",
    "for city in cities:\n",
    "    params = {\n",
    "        \"engine\": \"google\",\n",
    "        \"q\": \"Photographe grossesse naissance à {}\".format(city),\n",
    "        \"location\": \"France\",\n",
    "        \"api_key\": \"b0ff40020e4091183fb0147327fb3aef2ecfd9e44a6c01bb79fd4f7073ea6ade\",\n",
    "        \"num\": 50,\n",
    "    }\n",
    "\n",
    "    search = GoogleSearch(params)\n",
    "    results = search.get_dict()\n",
    "    organic_results[city] = results['organic_results']"
   ]
  },
  {
   "cell_type": "code",
   "execution_count": 26,
   "metadata": {},
   "outputs": [],
   "source": [
    "df = pd.DataFrame(columns = ['position', 'title', 'link', 'displayed_link', 'snippet',\n",
    "       'about_this_result', 'cached_page_link', 'related_results',\n",
    "       'related_pages_link', 'date','city'])\n",
    "for city in cities:\n",
    "    df_temp = pd.DataFrame(organic_results[city])\n",
    "    df_temp['city'] = city\n",
    "    df = df.append(df_temp,ignore_index = True)"
   ]
  },
  {
   "cell_type": "code",
   "execution_count": 27,
   "metadata": {},
   "outputs": [],
   "source": [
    "df['displayed_link'] = df.displayed_link.apply(lambda x: x[0:x.find(' ›')])"
   ]
  },
  {
   "cell_type": "code",
   "execution_count": 28,
   "metadata": {},
   "outputs": [],
   "source": [
    "def get_email(link):\n",
    "    try:\n",
    "        req = requests.get(link)\n",
    "        email = re.search(r'[\\w.+-]+@[\\w-]+\\.[com|fr|net|org]+',str(req.content)).group()\n",
    "    except:\n",
    "        email = '_no email found'\n",
    "    return email\n",
    "\n",
    "def get_phone(link):\n",
    "    try:\n",
    "        req = requests.get(link)\n",
    "        soup = BS(req.content, \"html.parser\")\n",
    "        contents = \"\".join(soup.strings)\n",
    "        phone = re.search('0[1-7][-\\.\\s]\\d{2}[-\\.\\s]\\d{2}[-\\.\\s]\\d{2}[-\\.\\s]\\d{2}|0[1-7]\\d{8}',str(contents)).group()\n",
    "    except:\n",
    "        phone = '_no phone found'\n",
    "    return phone\n",
    "\n",
    "def get_contact_page(link):\n",
    "    try:\n",
    "        req = requests.get(link)\n",
    "    except:\n",
    "        return \"_broken link\"\n",
    "\n",
    "    soup = BS(req.content, \"html.parser\")\n",
    "\n",
    "    for tag in soup.find_all(\"a\", href=True):\n",
    "        if \"contact\" in str(tag.text).lower():\n",
    "            return str(tag[\"href\"])\n",
    "    return \"_no contact page found\"\n",
    "\n",
    "def is_valid(x):\n",
    "    mother = x[0]\n",
    "    child = x[1]\n",
    "    if child[0:3]==\"htt\" or child[0:2]==\"ww\":\n",
    "        return child\n",
    "    else:\n",
    "        if child[0]==\"/\":\n",
    "            return mother+child\n",
    "        else:\n",
    "            return mother+\"/\"+child"
   ]
  },
  {
   "cell_type": "code",
   "execution_count": 29,
   "metadata": {},
   "outputs": [],
   "source": [
    "df['email'] = df['displayed_link'].apply(lambda x: get_email(x))"
   ]
  },
  {
   "cell_type": "code",
   "execution_count": 30,
   "metadata": {},
   "outputs": [
    {
     "name": "stderr",
     "output_type": "stream",
     "text": [
      "c:\\users\\thomas\\appdata\\local\\programs\\python\\python38\\lib\\site-packages\\bs4\\__init__.py:309: UserWarning: \".\" looks like a filename, not markup. You should probably open this file and pass the filehandle into Beautiful Soup.\n",
      "  warnings.warn(\n"
     ]
    }
   ],
   "source": [
    "df['phone'] = df['displayed_link'].apply(lambda x: get_phone(x))"
   ]
  },
  {
   "cell_type": "code",
   "execution_count": 56,
   "metadata": {},
   "outputs": [
    {
     "name": "stderr",
     "output_type": "stream",
     "text": [
      "c:\\users\\thomas\\appdata\\local\\programs\\python\\python38\\lib\\site-packages\\bs4\\__init__.py:309: UserWarning: \".\" looks like a filename, not markup. You should probably open this file and pass the filehandle into Beautiful Soup.\n",
      "  warnings.warn(\n"
     ]
    }
   ],
   "source": [
    "df['contact_page'] = df['displayed_link'].apply(lambda x: get_contact_page(x))"
   ]
  },
  {
   "cell_type": "code",
   "execution_count": 57,
   "metadata": {},
   "outputs": [
    {
     "data": {
      "text/html": [
       "<div>\n",
       "<style scoped>\n",
       "    .dataframe tbody tr th:only-of-type {\n",
       "        vertical-align: middle;\n",
       "    }\n",
       "\n",
       "    .dataframe tbody tr th {\n",
       "        vertical-align: top;\n",
       "    }\n",
       "\n",
       "    .dataframe thead th {\n",
       "        text-align: right;\n",
       "    }\n",
       "</style>\n",
       "<table border=\"1\" class=\"dataframe\">\n",
       "  <thead>\n",
       "    <tr style=\"text-align: right;\">\n",
       "      <th></th>\n",
       "      <th>position</th>\n",
       "      <th>title</th>\n",
       "      <th>link</th>\n",
       "      <th>displayed_link</th>\n",
       "      <th>snippet</th>\n",
       "      <th>about_this_result</th>\n",
       "      <th>cached_page_link</th>\n",
       "      <th>related_results</th>\n",
       "      <th>related_pages_link</th>\n",
       "      <th>date</th>\n",
       "      <th>city</th>\n",
       "      <th>rich_snippet</th>\n",
       "      <th>missing</th>\n",
       "      <th>must_include</th>\n",
       "      <th>sitelinks</th>\n",
       "      <th>email</th>\n",
       "      <th>phone</th>\n",
       "      <th>contact_page</th>\n",
       "    </tr>\n",
       "  </thead>\n",
       "  <tbody>\n",
       "    <tr>\n",
       "      <th>0</th>\n",
       "      <td>1</td>\n",
       "      <td>Les meilleurs photographes grossesse à Rennes ...</td>\n",
       "      <td>https://photopresta.fr/photographe-grossesse/r...</td>\n",
       "      <td>https://photopresta.fr</td>\n",
       "      <td>Les 25 meilleurs photographes naissance &amp; gros...</td>\n",
       "      <td>{'source': {'description': 'photopresta.fr was...</td>\n",
       "      <td>https://webcache.googleusercontent.com/search?...</td>\n",
       "      <td>NaN</td>\n",
       "      <td>NaN</td>\n",
       "      <td>NaN</td>\n",
       "      <td>Rennes</td>\n",
       "      <td>NaN</td>\n",
       "      <td>NaN</td>\n",
       "      <td>NaN</td>\n",
       "      <td>NaN</td>\n",
       "      <td>support@photopresta.com</td>\n",
       "      <td>01 76 54 91 83</td>\n",
       "      <td>/contact</td>\n",
       "    </tr>\n",
       "    <tr>\n",
       "      <th>1</th>\n",
       "      <td>2</td>\n",
       "      <td>Les meilleurs photographes naissance et grosse...</td>\n",
       "      <td>https://monbebebonheur.fr/photographes/rennes/</td>\n",
       "      <td>https://monbebebonheur.fr</td>\n",
       "      <td>Réserver une séance avec les meilleurs photogr...</td>\n",
       "      <td>{'source': {'description': 'monbebebonheur.fr ...</td>\n",
       "      <td>https://webcache.googleusercontent.com/search?...</td>\n",
       "      <td>NaN</td>\n",
       "      <td>NaN</td>\n",
       "      <td>NaN</td>\n",
       "      <td>Rennes</td>\n",
       "      <td>NaN</td>\n",
       "      <td>NaN</td>\n",
       "      <td>NaN</td>\n",
       "      <td>NaN</td>\n",
       "      <td>_no email found</td>\n",
       "      <td>_no phone found</td>\n",
       "      <td>javascript:zE.activate();</td>\n",
       "    </tr>\n",
       "    <tr>\n",
       "      <th>2</th>\n",
       "      <td>3</td>\n",
       "      <td>Séance photo maternité à Rennes - Olivia Poirier</td>\n",
       "      <td>https://oliviapoirier.fr/seance-photo-maternit...</td>\n",
       "      <td>https://oliviapoirier.fr</td>\n",
       "      <td>Une séance photo pour votre grossesse, la nais...</td>\n",
       "      <td>{'source': {'description': 'oliviapoirier.fr w...</td>\n",
       "      <td>https://webcache.googleusercontent.com/search?...</td>\n",
       "      <td>NaN</td>\n",
       "      <td>NaN</td>\n",
       "      <td>NaN</td>\n",
       "      <td>Rennes</td>\n",
       "      <td>NaN</td>\n",
       "      <td>NaN</td>\n",
       "      <td>NaN</td>\n",
       "      <td>NaN</td>\n",
       "      <td>_no email found</td>\n",
       "      <td>_no phone found</td>\n",
       "      <td>https://oliviapoirier.fr/contact/</td>\n",
       "    </tr>\n",
       "    <tr>\n",
       "      <th>3</th>\n",
       "      <td>4</td>\n",
       "      <td>Photographe Rennes - Famille, Femme enceinte &amp;...</td>\n",
       "      <td>https://www.meggmphotographies-rennes.com/2-2.htm</td>\n",
       "      <td>https://www.meggmphotographies-rennes.com</td>\n",
       "      <td>Megg'M Photographies immortalise les plus beau...</td>\n",
       "      <td>{'source': {'description': 'meggmphotographies...</td>\n",
       "      <td>https://webcache.googleusercontent.com/search?...</td>\n",
       "      <td>NaN</td>\n",
       "      <td>NaN</td>\n",
       "      <td>NaN</td>\n",
       "      <td>Rennes</td>\n",
       "      <td>NaN</td>\n",
       "      <td>NaN</td>\n",
       "      <td>NaN</td>\n",
       "      <td>NaN</td>\n",
       "      <td>_no email found</td>\n",
       "      <td>06 99 89 25 32</td>\n",
       "      <td>https://www.fotostudio.io/lead_forms/179</td>\n",
       "    </tr>\n",
       "    <tr>\n",
       "      <th>4</th>\n",
       "      <td>5</td>\n",
       "      <td>Naissance - Pauline.F Photography</td>\n",
       "      <td>https://www.paulinefphotography.com/blog/nouve...</td>\n",
       "      <td>https://www.paulinefphotography.com</td>\n",
       "      <td>Naissance. QUAND RESERVER LA SEANCE NOUVEAU-NE...</td>\n",
       "      <td>{'source': {'description': 'paulinefphotograph...</td>\n",
       "      <td>https://webcache.googleusercontent.com/search?...</td>\n",
       "      <td>NaN</td>\n",
       "      <td>NaN</td>\n",
       "      <td>NaN</td>\n",
       "      <td>Rennes</td>\n",
       "      <td>NaN</td>\n",
       "      <td>NaN</td>\n",
       "      <td>NaN</td>\n",
       "      <td>NaN</td>\n",
       "      <td>paulinefphotography@gmail.com</td>\n",
       "      <td>06.48.62.77.03</td>\n",
       "      <td>#contact-form</td>\n",
       "    </tr>\n",
       "    <tr>\n",
       "      <th>...</th>\n",
       "      <td>...</td>\n",
       "      <td>...</td>\n",
       "      <td>...</td>\n",
       "      <td>...</td>\n",
       "      <td>...</td>\n",
       "      <td>...</td>\n",
       "      <td>...</td>\n",
       "      <td>...</td>\n",
       "      <td>...</td>\n",
       "      <td>...</td>\n",
       "      <td>...</td>\n",
       "      <td>...</td>\n",
       "      <td>...</td>\n",
       "      <td>...</td>\n",
       "      <td>...</td>\n",
       "      <td>...</td>\n",
       "      <td>...</td>\n",
       "      <td>...</td>\n",
       "    </tr>\n",
       "    <tr>\n",
       "      <th>235</th>\n",
       "      <td>45</td>\n",
       "      <td>Photographe femme enceinte Séance photo grosse...</td>\n",
       "      <td>http://www.imagezvous.com/photographe-femme-en...</td>\n",
       "      <td>http://www.imagezvous.com</td>\n",
       "      <td>Portrait de femme enceinte, future maman, je p...</td>\n",
       "      <td>{'source': {'description': 'This result comes ...</td>\n",
       "      <td>http://webcache.googleusercontent.com/search?q...</td>\n",
       "      <td>NaN</td>\n",
       "      <td>NaN</td>\n",
       "      <td>NaN</td>\n",
       "      <td>Vannes</td>\n",
       "      <td>NaN</td>\n",
       "      <td>NaN</td>\n",
       "      <td>NaN</td>\n",
       "      <td>NaN</td>\n",
       "      <td>_no email found</td>\n",
       "      <td>02 96 74 11 10</td>\n",
       "      <td>contacter-isabelle-photographe-portraitiste-br...</td>\n",
       "    </tr>\n",
       "    <tr>\n",
       "      <th>236</th>\n",
       "      <td>46</td>\n",
       "      <td>Photographe bébé 12 mois - Séance photos à dom...</td>\n",
       "      <td>http://www.miliephotographedelinstant.com/phot...</td>\n",
       "      <td>http://www.miliephotographedelinstant.com</td>\n",
       "      <td>photographe bébé 12 mois - Séance photos en Br...</td>\n",
       "      <td>{'source': {'description': 'This result comes ...</td>\n",
       "      <td>http://webcache.googleusercontent.com/search?q...</td>\n",
       "      <td>NaN</td>\n",
       "      <td>NaN</td>\n",
       "      <td>NaN</td>\n",
       "      <td>Vannes</td>\n",
       "      <td>NaN</td>\n",
       "      <td>NaN</td>\n",
       "      <td>NaN</td>\n",
       "      <td>NaN</td>\n",
       "      <td>_no email found</td>\n",
       "      <td>06.79.60.95.23</td>\n",
       "      <td>_no contact page found</td>\n",
       "    </tr>\n",
       "    <tr>\n",
       "      <th>237</th>\n",
       "      <td>47</td>\n",
       "      <td>Dehennault Yann jusqu'à 90% - VANNES | Groupon</td>\n",
       "      <td>https://www.groupon.fr/deals/dehennault-yann</td>\n",
       "      <td>https://www.groupon.fr</td>\n",
       "      <td>Shooting photo formule grossesse et naissance ...</td>\n",
       "      <td>{'source': {'description': 'This result comes ...</td>\n",
       "      <td>https://webcache.googleusercontent.com/search?...</td>\n",
       "      <td>NaN</td>\n",
       "      <td>NaN</td>\n",
       "      <td>NaN</td>\n",
       "      <td>Vannes</td>\n",
       "      <td>{'top': {'detected_extensions': {'rating': 5, ...</td>\n",
       "      <td>NaN</td>\n",
       "      <td>NaN</td>\n",
       "      <td>NaN</td>\n",
       "      <td>_no email found</td>\n",
       "      <td>_no phone found</td>\n",
       "      <td>_no contact page found</td>\n",
       "    </tr>\n",
       "    <tr>\n",
       "      <th>238</th>\n",
       "      <td>48</td>\n",
       "      <td>Photographe portrait Finistere | Morbihan | Qu...</td>\n",
       "      <td>https://www.hieronimus-art.com/Photographe-por...</td>\n",
       "      <td>https://www.hieronimus-art.com</td>\n",
       "      <td>Votre séance photo de portrait famille, grosse...</td>\n",
       "      <td>{'source': {'description': 'This result comes ...</td>\n",
       "      <td>https://webcache.googleusercontent.com/search?...</td>\n",
       "      <td>NaN</td>\n",
       "      <td>NaN</td>\n",
       "      <td>NaN</td>\n",
       "      <td>Vannes</td>\n",
       "      <td>NaN</td>\n",
       "      <td>NaN</td>\n",
       "      <td>NaN</td>\n",
       "      <td>NaN</td>\n",
       "      <td>_no email found</td>\n",
       "      <td>_no phone found</td>\n",
       "      <td>Contact.php</td>\n",
       "    </tr>\n",
       "    <tr>\n",
       "      <th>239</th>\n",
       "      <td>49</td>\n",
       "      <td>Livre d'or - Photographe Portrait&amp;Mariage Morb...</td>\n",
       "      <td>http://www.jeremyelainphotographe.com/?p=2737</td>\n",
       "      <td>http://www.jeremyelainphotographe.com</td>\n",
       "      <td>J'ai réalisé un shooting photo (portrait) qui ...</td>\n",
       "      <td>{'source': {'description': 'This result comes ...</td>\n",
       "      <td>http://webcache.googleusercontent.com/search?q...</td>\n",
       "      <td>NaN</td>\n",
       "      <td>NaN</td>\n",
       "      <td>Jan 12, 2018</td>\n",
       "      <td>Vannes</td>\n",
       "      <td>NaN</td>\n",
       "      <td>NaN</td>\n",
       "      <td>NaN</td>\n",
       "      <td>NaN</td>\n",
       "      <td>_no email found</td>\n",
       "      <td>_no phone found</td>\n",
       "      <td>http://www.jeremyelainphotographe.com/?page_id...</td>\n",
       "    </tr>\n",
       "  </tbody>\n",
       "</table>\n",
       "<p>240 rows × 18 columns</p>\n",
       "</div>"
      ],
      "text/plain": [
       "    position                                              title  \\\n",
       "0          1  Les meilleurs photographes grossesse à Rennes ...   \n",
       "1          2  Les meilleurs photographes naissance et grosse...   \n",
       "2          3   Séance photo maternité à Rennes - Olivia Poirier   \n",
       "3          4  Photographe Rennes - Famille, Femme enceinte &...   \n",
       "4          5                  Naissance - Pauline.F Photography   \n",
       "..       ...                                                ...   \n",
       "235       45  Photographe femme enceinte Séance photo grosse...   \n",
       "236       46  Photographe bébé 12 mois - Séance photos à dom...   \n",
       "237       47     Dehennault Yann jusqu'à 90% - VANNES | Groupon   \n",
       "238       48  Photographe portrait Finistere | Morbihan | Qu...   \n",
       "239       49  Livre d'or - Photographe Portrait&Mariage Morb...   \n",
       "\n",
       "                                                  link  \\\n",
       "0    https://photopresta.fr/photographe-grossesse/r...   \n",
       "1       https://monbebebonheur.fr/photographes/rennes/   \n",
       "2    https://oliviapoirier.fr/seance-photo-maternit...   \n",
       "3    https://www.meggmphotographies-rennes.com/2-2.htm   \n",
       "4    https://www.paulinefphotography.com/blog/nouve...   \n",
       "..                                                 ...   \n",
       "235  http://www.imagezvous.com/photographe-femme-en...   \n",
       "236  http://www.miliephotographedelinstant.com/phot...   \n",
       "237       https://www.groupon.fr/deals/dehennault-yann   \n",
       "238  https://www.hieronimus-art.com/Photographe-por...   \n",
       "239      http://www.jeremyelainphotographe.com/?p=2737   \n",
       "\n",
       "                                displayed_link  \\\n",
       "0                       https://photopresta.fr   \n",
       "1                    https://monbebebonheur.fr   \n",
       "2                     https://oliviapoirier.fr   \n",
       "3    https://www.meggmphotographies-rennes.com   \n",
       "4          https://www.paulinefphotography.com   \n",
       "..                                         ...   \n",
       "235                  http://www.imagezvous.com   \n",
       "236  http://www.miliephotographedelinstant.com   \n",
       "237                     https://www.groupon.fr   \n",
       "238             https://www.hieronimus-art.com   \n",
       "239      http://www.jeremyelainphotographe.com   \n",
       "\n",
       "                                               snippet  \\\n",
       "0    Les 25 meilleurs photographes naissance & gros...   \n",
       "1    Réserver une séance avec les meilleurs photogr...   \n",
       "2    Une séance photo pour votre grossesse, la nais...   \n",
       "3    Megg'M Photographies immortalise les plus beau...   \n",
       "4    Naissance. QUAND RESERVER LA SEANCE NOUVEAU-NE...   \n",
       "..                                                 ...   \n",
       "235  Portrait de femme enceinte, future maman, je p...   \n",
       "236  photographe bébé 12 mois - Séance photos en Br...   \n",
       "237  Shooting photo formule grossesse et naissance ...   \n",
       "238  Votre séance photo de portrait famille, grosse...   \n",
       "239  J'ai réalisé un shooting photo (portrait) qui ...   \n",
       "\n",
       "                                     about_this_result  \\\n",
       "0    {'source': {'description': 'photopresta.fr was...   \n",
       "1    {'source': {'description': 'monbebebonheur.fr ...   \n",
       "2    {'source': {'description': 'oliviapoirier.fr w...   \n",
       "3    {'source': {'description': 'meggmphotographies...   \n",
       "4    {'source': {'description': 'paulinefphotograph...   \n",
       "..                                                 ...   \n",
       "235  {'source': {'description': 'This result comes ...   \n",
       "236  {'source': {'description': 'This result comes ...   \n",
       "237  {'source': {'description': 'This result comes ...   \n",
       "238  {'source': {'description': 'This result comes ...   \n",
       "239  {'source': {'description': 'This result comes ...   \n",
       "\n",
       "                                      cached_page_link related_results  \\\n",
       "0    https://webcache.googleusercontent.com/search?...             NaN   \n",
       "1    https://webcache.googleusercontent.com/search?...             NaN   \n",
       "2    https://webcache.googleusercontent.com/search?...             NaN   \n",
       "3    https://webcache.googleusercontent.com/search?...             NaN   \n",
       "4    https://webcache.googleusercontent.com/search?...             NaN   \n",
       "..                                                 ...             ...   \n",
       "235  http://webcache.googleusercontent.com/search?q...             NaN   \n",
       "236  http://webcache.googleusercontent.com/search?q...             NaN   \n",
       "237  https://webcache.googleusercontent.com/search?...             NaN   \n",
       "238  https://webcache.googleusercontent.com/search?...             NaN   \n",
       "239  http://webcache.googleusercontent.com/search?q...             NaN   \n",
       "\n",
       "    related_pages_link          date    city  \\\n",
       "0                  NaN           NaN  Rennes   \n",
       "1                  NaN           NaN  Rennes   \n",
       "2                  NaN           NaN  Rennes   \n",
       "3                  NaN           NaN  Rennes   \n",
       "4                  NaN           NaN  Rennes   \n",
       "..                 ...           ...     ...   \n",
       "235                NaN           NaN  Vannes   \n",
       "236                NaN           NaN  Vannes   \n",
       "237                NaN           NaN  Vannes   \n",
       "238                NaN           NaN  Vannes   \n",
       "239                NaN  Jan 12, 2018  Vannes   \n",
       "\n",
       "                                          rich_snippet missing must_include  \\\n",
       "0                                                  NaN     NaN          NaN   \n",
       "1                                                  NaN     NaN          NaN   \n",
       "2                                                  NaN     NaN          NaN   \n",
       "3                                                  NaN     NaN          NaN   \n",
       "4                                                  NaN     NaN          NaN   \n",
       "..                                                 ...     ...          ...   \n",
       "235                                                NaN     NaN          NaN   \n",
       "236                                                NaN     NaN          NaN   \n",
       "237  {'top': {'detected_extensions': {'rating': 5, ...     NaN          NaN   \n",
       "238                                                NaN     NaN          NaN   \n",
       "239                                                NaN     NaN          NaN   \n",
       "\n",
       "    sitelinks                          email            phone  \\\n",
       "0         NaN        support@photopresta.com   01 76 54 91 83   \n",
       "1         NaN                _no email found  _no phone found   \n",
       "2         NaN                _no email found  _no phone found   \n",
       "3         NaN                _no email found   06 99 89 25 32   \n",
       "4         NaN  paulinefphotography@gmail.com   06.48.62.77.03   \n",
       "..        ...                            ...              ...   \n",
       "235       NaN                _no email found   02 96 74 11 10   \n",
       "236       NaN                _no email found   06.79.60.95.23   \n",
       "237       NaN                _no email found  _no phone found   \n",
       "238       NaN                _no email found  _no phone found   \n",
       "239       NaN                _no email found  _no phone found   \n",
       "\n",
       "                                          contact_page  \n",
       "0                                             /contact  \n",
       "1                            javascript:zE.activate();  \n",
       "2                    https://oliviapoirier.fr/contact/  \n",
       "3             https://www.fotostudio.io/lead_forms/179  \n",
       "4                                        #contact-form  \n",
       "..                                                 ...  \n",
       "235  contacter-isabelle-photographe-portraitiste-br...  \n",
       "236                             _no contact page found  \n",
       "237                             _no contact page found  \n",
       "238                                        Contact.php  \n",
       "239  http://www.jeremyelainphotographe.com/?page_id...  \n",
       "\n",
       "[240 rows x 18 columns]"
      ]
     },
     "execution_count": 57,
     "metadata": {},
     "output_type": "execute_result"
    }
   ],
   "source": [
    "df"
   ]
  },
  {
   "cell_type": "code",
   "execution_count": 78,
   "metadata": {},
   "outputs": [],
   "source": [
    "def is_valid(x):\n",
    "    mother = x[0]\n",
    "    child = x[1]\n",
    "    if child[0:3]==\"htt\" or child[0:2]==\"ww\":\n",
    "        return child\n",
    "    else:\n",
    "        if child[0]==\"/\":\n",
    "            return mother+child\n",
    "        else:\n",
    "            return mother+\"/\"+child"
   ]
  },
  {
   "cell_type": "code",
   "execution_count": 81,
   "metadata": {},
   "outputs": [],
   "source": [
    "df[\"contact_page\"] = df[[\"displayed_link\",\"contact_page\"]].apply(is_valid, axis=1)"
   ]
  },
  {
   "cell_type": "code",
   "execution_count": 83,
   "metadata": {},
   "outputs": [],
   "source": [
    "df[\"email_2\"] = df[\"contact_page\"].apply(lambda x: get_email(x))"
   ]
  },
  {
   "cell_type": "code",
   "execution_count": 85,
   "metadata": {},
   "outputs": [
    {
     "data": {
      "text/plain": [
       "(159, 19)"
      ]
     },
     "execution_count": 85,
     "metadata": {},
     "output_type": "execute_result"
    }
   ],
   "source": [
    "df.loc[df.email == \"_no email found\"].loc[df.email_2 == \"_no email found\"].shape"
   ]
  },
  {
   "cell_type": "code",
   "execution_count": 93,
   "metadata": {},
   "outputs": [
    {
     "data": {
      "text/plain": [
       "(159, 19)"
      ]
     },
     "execution_count": 93,
     "metadata": {},
     "output_type": "execute_result"
    }
   ],
   "source": [
    "df.loc[(df.email == \"_no email found\") & (df.email_2 == \"_no email found\")].shape"
   ]
  },
  {
   "cell_type": "code",
   "execution_count": 94,
   "metadata": {},
   "outputs": [
    {
     "data": {
      "text/plain": [
       "(240, 19)"
      ]
     },
     "execution_count": 94,
     "metadata": {},
     "output_type": "execute_result"
    }
   ],
   "source": [
    "df.shape"
   ]
  },
  {
   "cell_type": "code",
   "execution_count": 95,
   "metadata": {},
   "outputs": [
    {
     "name": "stderr",
     "output_type": "stream",
     "text": [
      "c:\\users\\thomas\\appdata\\local\\programs\\python\\python38\\lib\\site-packages\\bs4\\__init__.py:309: UserWarning: \".\" looks like a filename, not markup. You should probably open this file and pass the filehandle into Beautiful Soup.\n",
      "  warnings.warn(\n"
     ]
    }
   ],
   "source": [
    "df[\"phone_2\"] = df[\"contact_page\"].apply(lambda x: get_phone(x))"
   ]
  },
  {
   "cell_type": "code",
   "execution_count": 97,
   "metadata": {},
   "outputs": [
    {
     "data": {
      "text/plain": [
       "(137, 20)"
      ]
     },
     "execution_count": 97,
     "metadata": {},
     "output_type": "execute_result"
    }
   ],
   "source": [
    "df.loc[(df.phone == \"_no phone found\") & (df.phone_2 == \"_no phone found\") & (df.email == \"_no email found\") & (df.email_2 == \"_no email found\")].shape"
   ]
  },
  {
   "cell_type": "code",
   "execution_count": 102,
   "metadata": {},
   "outputs": [],
   "source": [
    "df_2 = pd.read_excel(\"LeadsBebebonheur.xlsx\")"
   ]
  },
  {
   "cell_type": "code",
   "execution_count": 104,
   "metadata": {},
   "outputs": [],
   "source": [
    "df_2['email'] = df_2['displayed_link'].apply(lambda x: get_email(x))"
   ]
  },
  {
   "cell_type": "code",
   "execution_count": 105,
   "metadata": {},
   "outputs": [],
   "source": [
    "df_2['phone'] = df_2['displayed_link'].apply(lambda x: get_phone(x))"
   ]
  },
  {
   "cell_type": "code",
   "execution_count": 106,
   "metadata": {},
   "outputs": [],
   "source": [
    "df_2['contact_page'] = df_2['displayed_link'].apply(lambda x: get_contact_page(x))"
   ]
  },
  {
   "cell_type": "code",
   "execution_count": 107,
   "metadata": {},
   "outputs": [],
   "source": [
    "df_2[\"contact_page\"] = df_2[[\"displayed_link\",\"contact_page\"]].apply(is_valid, axis=1)"
   ]
  },
  {
   "cell_type": "code",
   "execution_count": 108,
   "metadata": {},
   "outputs": [],
   "source": [
    "df_2[\"email_2\"] = df_2[\"contact_page\"].apply(lambda x: get_email(x))"
   ]
  },
  {
   "cell_type": "code",
   "execution_count": 109,
   "metadata": {},
   "outputs": [],
   "source": [
    "df_2[\"phone_2\"] = df_2[\"contact_page\"].apply(lambda x: get_phone(x))"
   ]
  },
  {
   "cell_type": "code",
   "execution_count": 110,
   "metadata": {},
   "outputs": [
    {
     "data": {
      "text/plain": [
       "(262, 12)"
      ]
     },
     "execution_count": 110,
     "metadata": {},
     "output_type": "execute_result"
    }
   ],
   "source": [
    "df_2.shape"
   ]
  },
  {
   "cell_type": "code",
   "execution_count": 111,
   "metadata": {},
   "outputs": [
    {
     "data": {
      "text/plain": [
       "(58, 12)"
      ]
     },
     "execution_count": 111,
     "metadata": {},
     "output_type": "execute_result"
    }
   ],
   "source": [
    "df_2.loc[(df_2.phone == \"_no phone found\") & (df_2.phone_2 == \"_no phone found\") & (df_2.email == \"_no email found\") & (df_2.email_2 == \"_no email found\")].shape"
   ]
  },
  {
   "cell_type": "code",
   "execution_count": 112,
   "metadata": {},
   "outputs": [],
   "source": [
    "df_2.to_csv(\"mbbleads.csv\")"
   ]
  },
  {
   "cell_type": "code",
   "execution_count": null,
   "metadata": {},
   "outputs": [],
   "source": []
  }
 ],
 "metadata": {
  "kernelspec": {
   "display_name": "Python 3",
   "language": "python",
   "name": "python3"
  },
  "language_info": {
   "codemirror_mode": {
    "name": "ipython",
    "version": 3
   },
   "file_extension": ".py",
   "mimetype": "text/x-python",
   "name": "python",
   "nbconvert_exporter": "python",
   "pygments_lexer": "ipython3",
   "version": "3.8.2"
  }
 },
 "nbformat": 4,
 "nbformat_minor": 4
}
